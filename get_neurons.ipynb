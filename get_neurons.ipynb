{
 "cells": [
  {
   "cell_type": "code",
   "execution_count": null,
   "metadata": {},
   "outputs": [],
   "source": [
    "import os\n",
    "from tqdm import tqdm\n",
    "from huggingface_hub import login\n",
    "import torch\n",
    "import torch.nn as nn\n",
    "import math\n",
    "import einops\n",
    "from fancy_einsum import einsum\n",
    "import tqdm.auto as tqdm\n",
    "import plotly.express as px\n",
    "from jaxtyping import Float\n",
    "from functools import partial\n",
    "import transformer_lens.utils as utils\n",
    "from transformer_lens.hook_points import (\n",
    "    HookPoint,\n",
    ")  # Hooking utilities\n",
    "from transformer_lens import HookedTransformer, FactoredMatrix"
   ]
  },
  {
   "cell_type": "code",
   "execution_count": null,
   "metadata": {},
   "outputs": [],
   "source": [
    "with open(\"/Users/cole/cs2822r/saes2822r/access.tok\", \"r\") as file:\n",
    "    access_token = file.read()\n",
    "    login(token=access_token)\n",
    "\n",
    "if torch.backends.mps.is_available():\n",
    "    device = \"mps\"\n",
    "else:\n",
    "    device = \"cuda\" if torch.cuda.is_available() else \"cpu\"\n",
    "\n",
    "print(f\"Device: {device}\")"
   ]
  },
  {
   "cell_type": "code",
   "execution_count": null,
   "metadata": {},
   "outputs": [],
   "source": [
    "from datasets import load_dataset  \n",
    "import transformer_lens\n",
    "from transformer_lens import HookedTransformer\n",
    "from sae_lens import SAE, HookedSAETransformer\n",
    "\n",
    "torch.set_grad_enabled(False)"
   ]
  },
  {
   "cell_type": "code",
   "execution_count": null,
   "metadata": {},
   "outputs": [],
   "source": [
    "# load gpt-2-small (for testing)\n",
    "model = HookedSAETransformer.from_pretrained(\"gpt2-small\", device=device)\n",
    "\n",
    "# load sae on res stream of gpt-2-small, plus cfg and sparsity val (for testing)\n",
    "sae, cfg_dict, sparsity = SAE.from_pretrained(\n",
    "    release = \"gpt2-small-res-jb\",\n",
    "    sae_id = \"blocks.7.hook_resid_pre\",\n",
    "    device = device\n",
    ")"
   ]
  },
  {
   "cell_type": "code",
   "execution_count": null,
   "metadata": {},
   "outputs": [],
   "source": [
    "sae.use_error_term\n",
    "\n",
    "top_neurons_neg = {}\n",
    "top_neurons_pos = {}\n",
    "\n",
    "for example in negative_set:\n",
    "    _, cache = model.run_with_cache_with_saes(example, saes=[sae])\n",
    "\n",
    "    # get top 15 firing sae neurons\n",
    "    vals, inds = torch.topk(cache['blocks.7.hook_resid_pre.hook_sae_acts_post'][0, -1, :], 15)\n",
    "\n",
    "    for datapoint in zip(inds, vals):\n",
    "        if datapoint[0] in top_neurons_neg:\n",
    "            top_neurons_neg[datapoint[0]].append(datapoint[1])\n",
    "        else:\n",
    "            top_neurons_neg[datapoint[0]] = [datapoint[1]]\n",
    "    \n",
    "\n",
    "for example in positive_set:\n",
    "    _, cache = model.run_with_cache_with_saes(example, saes=[sae])\n",
    "\n",
    "    # get top 15 firing sae neurons\n",
    "    vals, inds = torch.topk(cache['blocks.7.hook_resid_pre.hook_sae_acts_post'][0, -1, :], 15)\n",
    "\n",
    "    for datapoint in zip(inds, vals):\n",
    "        if datapoint[0] in top_neurons_pos:\n",
    "            top_neurons_pos[datapoint[0]].append(datapoint[1])\n",
    "        else:\n",
    "            top_neurons_pos[datapoint[0]] = [datapoint[1]]"
   ]
  },
  {
   "cell_type": "code",
   "execution_count": null,
   "metadata": {},
   "outputs": [],
   "source": [
    "# average activations over each top case, sends to\n",
    "# top_neurons_neg/pos = {idx: avg_act, idx2:avg_act2, ...}\n",
    "for entry in top_neurons_neg:\n",
    "    top_neurons_neg[entry] = math.mean(top_neurons_neg[entry])\n",
    "\n",
    "for entry in top_neurons_pos:\n",
    "    top_neurons_pos[entry] = math.mean(top_neurons_pos[entry])\n",
    "\n",
    "for entry in top_neurons_pos:\n",
    "    "
   ]
  },
  {
   "cell_type": "code",
   "execution_count": null,
   "metadata": {},
   "outputs": [],
   "source": [
    "# train classifier on top activations"
   ]
  }
 ],
 "metadata": {
  "language_info": {
   "name": "python"
  }
 },
 "nbformat": 4,
 "nbformat_minor": 2
}
