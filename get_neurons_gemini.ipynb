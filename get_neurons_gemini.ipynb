{
 "cells": [
  {
   "cell_type": "code",
   "execution_count": 1,
   "metadata": {},
   "outputs": [],
   "source": [
    "import os\n",
    "from tqdm import tqdm\n",
    "from huggingface_hub import login\n",
    "import torch\n",
    "import torch.nn as nn\n",
    "import math\n",
    "import einops\n",
    "from fancy_einsum import einsum\n",
    "import tqdm.auto as tqdm\n",
    "import plotly.express as px\n",
    "from jaxtyping import Float\n",
    "from functools import partial\n",
    "import transformer_lens.utils as utils\n",
    "import numpy as np\n",
    "import pandas as pd\n",
    "from sklearn.model_selection import train_test_split\n",
    "from sklearn.linear_model import LogisticRegression\n",
    "from sklearn.metrics import accuracy_score, classification_report\n",
    "from transformer_lens.hook_points import (\n",
    "    HookPoint,\n",
    ")  # Hooking utilities\n",
    "from transformer_lens import HookedTransformer, FactoredMatrix\n",
    "from collections import defaultdict"
   ]
  },
  {
   "cell_type": "code",
   "execution_count": 3,
   "metadata": {},
   "outputs": [
    {
     "name": "stdout",
     "output_type": "stream",
     "text": [
      "Device: mps\n"
     ]
    }
   ],
   "source": [
    "with open(\"access.tok\", \"r\") as file:\n",
    "    access_token = file.read()\n",
    "    login(token=access_token)\n",
    "\n",
    "if torch.backends.mps.is_available():\n",
    "    device = \"mps\"\n",
    "else:\n",
    "    device = \"cuda\" if torch.cuda.is_available() else \"cpu\"\n",
    "\n",
    "print(f\"Device: {device}\")"
   ]
  },
  {
   "cell_type": "code",
   "execution_count": 4,
   "metadata": {},
   "outputs": [],
   "source": [
    "from datasets import load_dataset  \n",
    "import transformer_lens\n",
    "from transformer_lens import HookedTransformer\n",
    "from sae_lens import SAE, HookedSAETransformer\n",
    "\n",
    "torch.set_grad_enabled(False)\n",
    "\n",
    "NEG_SET_SIZE = 200\n",
    "POS_SET_SIZE = 200"
   ]
  },
  {
   "cell_type": "code",
   "execution_count": 5,
   "metadata": {},
   "outputs": [
    {
     "name": "stderr",
     "output_type": "stream",
     "text": [
      "WARNING:root:You tried to specify center_unembed=True for a model using logit softcap, but this can't be done! Softcapping is not invariant upon adding a constantSetting center_unembed=False instead.\n"
     ]
    },
    {
     "data": {
      "application/vnd.jupyter.widget-view+json": {
       "model_id": "ad280ed5bf014d759a250461c05d8707",
       "version_major": 2,
       "version_minor": 0
      },
      "text/plain": [
       "Loading checkpoint shards:   0%|          | 0/3 [00:00<?, ?it/s]"
      ]
     },
     "metadata": {},
     "output_type": "display_data"
    },
    {
     "name": "stderr",
     "output_type": "stream",
     "text": [
      "WARNING:root:You are not using LayerNorm, so the writing weights can't be centered! Skipping\n"
     ]
    },
    {
     "name": "stdout",
     "output_type": "stream",
     "text": [
      "Loaded pretrained model gemma-2-2b into HookedTransformer\n"
     ]
    }
   ],
   "source": [
    "# load gemma model \n",
    "model = HookedSAETransformer.from_pretrained(\"gemma-2-2b\", device = device)\n",
    "\n",
    "# load sae on res stream of gemma model, plus cfg and sparsity val\n",
    "sae, cfg_dict, sparsity = SAE.from_pretrained(\n",
    "    release = \"gemma-scope-2b-pt-res\",\n",
    "    sae_id = \"layer_14/width_16k/average_l0_83\",\n",
    "    device = device\n",
    ")"
   ]
  },
  {
   "cell_type": "code",
   "execution_count": 7,
   "metadata": {},
   "outputs": [
    {
     "name": "stdout",
     "output_type": "stream",
     "text": [
      "200\n"
     ]
    }
   ],
   "source": [
    "df = pd.read_csv('dataset/harmful_strings.csv')\n",
    "\n",
    "columns_as_arrays = [df[col].values for col in df.columns]\n",
    "\n",
    "array_dict = {col: df[col].values for col in df.columns}\n",
    "\n",
    "negative_set = columns_as_arrays[0]\n",
    "negative_set = negative_set[:NEG_SET_SIZE]\n",
    "print(len(negative_set))"
   ]
  },
  {
   "cell_type": "code",
   "execution_count": 8,
   "metadata": {},
   "outputs": [
    {
     "name": "stdout",
     "output_type": "stream",
     "text": [
      "200\n"
     ]
    }
   ],
   "source": [
    "positive = pd.read_json('dataset/alpaca_data.json')\n",
    "\n",
    "positive_set = positive['output'].values\n",
    "positive_set = positive_set[:POS_SET_SIZE]\n",
    "print(len(positive_set))"
   ]
  },
  {
   "cell_type": "code",
   "execution_count": 9,
   "metadata": {},
   "outputs": [
    {
     "ename": "KeyboardInterrupt",
     "evalue": "",
     "output_type": "error",
     "traceback": [
      "\u001b[0;31m---------------------------------------------------------------------------\u001b[0m",
      "\u001b[0;31mKeyboardInterrupt\u001b[0m                         Traceback (most recent call last)",
      "Cell \u001b[0;32mIn[9], line 13\u001b[0m\n\u001b[1;32m     10\u001b[0m     vals, inds \u001b[38;5;241m=\u001b[39m torch\u001b[38;5;241m.\u001b[39mtopk(cache[\u001b[38;5;124m'\u001b[39m\u001b[38;5;124mblocks.14.hook_resid_post.hook_sae_acts_post\u001b[39m\u001b[38;5;124m'\u001b[39m][\u001b[38;5;241m0\u001b[39m, \u001b[38;5;241m-\u001b[39m\u001b[38;5;241m1\u001b[39m, :], \u001b[38;5;241m15\u001b[39m)\n\u001b[1;32m     12\u001b[0m     \u001b[38;5;28;01mfor\u001b[39;00m datapoint \u001b[38;5;129;01min\u001b[39;00m \u001b[38;5;28mzip\u001b[39m(inds, vals):\n\u001b[0;32m---> 13\u001b[0m         top_neurons_neg[\u001b[38;5;28;43mint\u001b[39;49m\u001b[43m(\u001b[49m\u001b[43mdatapoint\u001b[49m\u001b[43m[\u001b[49m\u001b[38;5;241;43m0\u001b[39;49m\u001b[43m]\u001b[49m\u001b[43m)\u001b[49m]\u001b[38;5;241m.\u001b[39mappend(datapoint[\u001b[38;5;241m1\u001b[39m]\u001b[38;5;241m.\u001b[39mitem())\n\u001b[1;32m     16\u001b[0m \u001b[38;5;28;01mfor\u001b[39;00m example \u001b[38;5;129;01min\u001b[39;00m positive_set:\n\u001b[1;32m     17\u001b[0m     _, cache \u001b[38;5;241m=\u001b[39m model\u001b[38;5;241m.\u001b[39mrun_with_cache_with_saes(example, saes\u001b[38;5;241m=\u001b[39m[sae])\n",
      "\u001b[0;31mKeyboardInterrupt\u001b[0m: "
     ]
    }
   ],
   "source": [
    "sae.use_error_term\n",
    "\n",
    "top_neurons_neg = defaultdict(list)\n",
    "top_neurons_pos = defaultdict(list)\n",
    "\n",
    "for example in negative_set:\n",
    "    _, cache = model.run_with_cache_with_saes(example, saes=[sae])\n",
    "\n",
    "    # get top 15 firing sae neurons\n",
    "    vals, inds = torch.topk(cache['blocks.14.hook_resid_post.hook_sae_acts_post'][0, -1, :], 15)\n",
    "\n",
    "    for datapoint in zip(inds, vals):\n",
    "        top_neurons_neg[int(datapoint[0])].append(datapoint[1].item())\n",
    "    \n",
    "\n",
    "for example in positive_set:\n",
    "    _, cache = model.run_with_cache_with_saes(example, saes=[sae])\n",
    "\n",
    "    # get top 15 firing sae neurons\n",
    "    vals, inds = torch.topk(cache['blocks.14.hook_resid_post.hook_sae_acts_post'][0, -1, :], 15)\n",
    "    for datapoint in zip(inds, vals):\n",
    "        top_neurons_pos[int(datapoint[0])].append(datapoint[1].item())\n",
    "\n",
    "print(top_neurons_neg)\n",
    "print(top_neurons_pos)"
   ]
  },
  {
   "cell_type": "code",
   "execution_count": null,
   "metadata": {},
   "outputs": [],
   "source": [
    "def filter_neurons(top_neurons_neg, top_neurons_pos, threshold=5.0):\n",
    "    \"\"\"\n",
    "    Filters out neurons that are highly activated in both the negative and positive sets.\n",
    "    \"\"\"\n",
    "    \n",
    "    filtered_neurons_neg = {}\n",
    "    filtered_neurons_pos = {}\n",
    "\n",
    "    for neuron, activations in top_neurons_neg.items():\n",
    "        if neuron in top_neurons_pos and any(val >= threshold for val in activations) and any(val >= threshold for val in top_neurons_pos[neuron]):\n",
    "            continue \n",
    "        else:\n",
    "            filtered_neurons_neg[neuron] = activations\n",
    "\n",
    "    for neuron, activations in top_neurons_pos.items():\n",
    "        if neuron not in top_neurons_neg or not any(val >= threshold for val in top_neurons_neg[neuron]):\n",
    "            filtered_neurons_pos[neuron] = activations\n",
    "\n",
    "    return filtered_neurons_neg, filtered_neurons_pos\n",
    "\n",
    "filtered_neg, filtered_pos = filter_neurons(top_neurons_neg, top_neurons_pos, 0)\n",
    "print(f\"Len: {len(filtered_neg)}. Filtered negative neurons: {filtered_neg}\")\n",
    "print(f\"Len: {len(filtered_pos)}. Filtered positive neurons: {filtered_pos}\")"
   ]
  },
  {
   "cell_type": "code",
   "execution_count": null,
   "metadata": {},
   "outputs": [],
   "source": [
    "# train classifier on top activations\n",
    "# average activations over each top case, sends to\n",
    "# top_neurons_neg/pos = {idx: avg_act, idx2:avg_act2, ...}\n",
    "top_neurons_neg_mean = {}\n",
    "for entry in filtered_neg:\n",
    "    top_neurons_neg_mean[entry] = len(filtered_neg[entry])\n",
    "\n",
    "top_neurons_pos_mean = {}\n",
    "for entry in filtered_pos:\n",
    "    top_neurons_pos_mean[entry] = len(filtered_pos[entry])\n",
    "\n",
    "print(top_neurons_neg_mean)\n",
    "print(top_neurons_pos_mean)\n",
    "\n",
    "# sort by avg activation\n",
    "top_neurons_neg_mean = {k: v for k, v in sorted(top_neurons_neg_mean.items(), key=lambda item: item[1], reverse=True)}\n",
    "top_neurons_pos_mean = {k: v for k, v in sorted(top_neurons_pos_mean.items(), key=lambda item: item[1], reverse=True)}\n",
    "\n",
    "\n",
    "# print first few\n",
    "print(list(top_neurons_neg_mean.items())[:200])\n",
    "print(list(top_neurons_pos_mean.items())[:200])"
   ]
  },
  {
   "cell_type": "code",
   "execution_count": 11,
   "metadata": {},
   "outputs": [
    {
     "name": "stdout",
     "output_type": "stream",
     "text": [
      "Test Accuracy: 1.0000\n"
     ]
    }
   ],
   "source": [
    "# train classifier on sae activations\n",
    "activations_list = []\n",
    "labels_list = []\n",
    "\n",
    "# 0 = negative, 1 = positive\n",
    "for example_txt in negative_set:\n",
    "    _, cache = model.run_with_cache_with_saes(example_txt, saes=[sae])\n",
    "    activations = cache['blocks.14.hook_resid_post.hook_sae_acts_post'][0, -1, :].cpu().numpy()\n",
    "    #print(activations.shape)\n",
    "\n",
    "    activations_list.append(activations)\n",
    "    labels_list.append(0)\n",
    "\n",
    "for example_txt in positive_set:\n",
    "    _, cache = model.run_with_cache_with_saes(example_txt, saes=[sae])\n",
    "    activations = cache['blocks.14.hook_resid_post.hook_sae_acts_post'][0, -1, :].cpu().numpy()\n",
    "\n",
    "    activations_list.append(activations)\n",
    "    labels_list.append(1)   \n",
    "\n",
    "# data\n",
    "X = np.array(activations_list)\n",
    "y = np.array(labels_list)\n",
    "\n",
    "# train test split\n",
    "X_train, X_test, y_train, y_test = train_test_split(X, y, test_size=0.2, random_state=42)\n",
    "\n",
    "# scale activation features\n",
    "from sklearn.preprocessing import StandardScaler\n",
    "scaler = StandardScaler()\n",
    "X_train = scaler.fit_transform(X_train)\n",
    "X_test = scaler.transform(X_test)\n",
    "\n",
    "clf = LogisticRegression(max_iter=1000, solver='lbfgs') \n",
    "clf.fit(X_train, y_train)\n",
    "\n",
    "y_pred = clf.predict(X_test)\n",
    "accuracy = accuracy_score(y_test, y_pred)\n",
    "print(f'Test Accuracy: {accuracy:.4f}')"
   ]
  },
  {
   "cell_type": "code",
   "execution_count": 16,
   "metadata": {},
   "outputs": [
    {
     "name": "stdout",
     "output_type": "stream",
     "text": [
      "Test Accuracy: 0.9500\n"
     ]
    }
   ],
   "source": [
    "# train classifier on base activations\n",
    "activations_list = []\n",
    "labels_list = []\n",
    "\n",
    "# 0 = negative, 1 = positive\n",
    "for example_txt in negative_set:\n",
    "    _, cache = model.run_with_cache(example_txt)\n",
    "    res_stream = cache.decompose_resid(layer=15, return_labels=False, mode='attn', incl_embeds=False, pos_slice=slice(-2, -1))\n",
    "    seven_out = res_stream[-1, 0, -1, :].cpu().numpy() # layer batch pos d_model\n",
    "    #print(seven_out.shape)\n",
    "\n",
    "    activations_list.append(seven_out)\n",
    "    labels_list.append(0)\n",
    "\n",
    "#print(\"done w bad\")\n",
    "\n",
    "for example_txt in positive_set:\n",
    "    _, cache = model.run_with_cache(example_txt)\n",
    "    res_stream = cache.decompose_resid(layer=15, return_labels=False, mode='attn', incl_embeds=False, pos_slice=slice(-2, -1))\n",
    "    seven_out = res_stream[-1, 0, -1, :].cpu().numpy()  # layer batch pos d_model\n",
    "\n",
    "    activations_list.append(seven_out)\n",
    "    labels_list.append(1)\n",
    "\n",
    "# data and split\n",
    "X = np.array(activations_list)\n",
    "y = np.array(labels_list)\n",
    "X_train, X_test, y_train, y_test = train_test_split(X, y, test_size=0.2, random_state=42)\n",
    "\n",
    "# scale features \n",
    "from sklearn.preprocessing import StandardScaler\n",
    "scaler = StandardScaler()\n",
    "X_train = scaler.fit_transform(X_train)\n",
    "X_test = scaler.transform(X_test)\n",
    "\n",
    "# train classifier\n",
    "clf = LogisticRegression(max_iter=1000, solver='lbfgs') \n",
    "clf.fit(X_train, y_train)\n",
    "\n",
    "y_pred = clf.predict(X_test)\n",
    "accuracy = accuracy_score(y_test, y_pred)\n",
    "print(f'Test Accuracy: {accuracy:.4f}')"
   ]
  },
  {
   "cell_type": "code",
   "execution_count": null,
   "metadata": {},
   "outputs": [],
   "source": [
    "# reject sample if activation at any of top N neurons is above threshold T\n",
    "THRESHOLD = 2\n",
    "NEURONS_TO_CONSIDER = 100\n",
    "\n",
    "top_neurons_neg_occ = list(top_neurons_neg_mean.items())[:NEURONS_TO_CONSIDER]\n",
    "top_neurons_pos_mean = []\n",
    "neg_indicators = []\n",
    "\n",
    "for entry in top_neurons_neg_occ:\n",
    "    neg_indicators.append(entry[0])\n",
    "\n",
    "print(neg_indicators)\n",
    "\n",
    "# run an inference, if hits threshold on any of the neurons classify as bad\n",
    "e = 0\n",
    "neg_classifications = np.zeros(NEG_SET_SIZE)\n",
    "for example in negative_set:\n",
    "    _, cache = model.run_with_cache_with_saes(example, saes=[sae])\n",
    "\n",
    "    # get data from indicator neurons\n",
    "    val = cache['blocks.7.hook_resid_pre.hook_sae_acts_post'][0, -1, :]\n",
    "    for critical_neuron_idx in neg_indicators:\n",
    "        if (val[critical_neuron_idx] > THRESHOLD):\n",
    "            neg_classifications[e] = 1\n",
    "            break\n",
    "    e += 1\n",
    "\n",
    "pos_classifications = np.zeros(POS_SET_SIZE)\n",
    "\n",
    "\n",
    "e = 0\n",
    "for example in positive_set:\n",
    "    _, cache = model.run_with_cache_with_saes(example, saes=[sae])\n",
    "\n",
    "    # get data from indicator neurons\n",
    "    val = cache['blocks.7.hook_resid_pre.hook_sae_acts_post'][0, -1, :]\n",
    "    for critical_neuron_idx in neg_indicators:\n",
    "        if (val[critical_neuron_idx] > THRESHOLD):\n",
    "            pos_classifications[e] = 1\n",
    "            break\n",
    "    e += 1\n",
    "\n",
    "print(\" RATS ! \", np.sum(neg_classifications) / 2)\n",
    "print(\" GENIUSES ! \", np.sum(pos_classifications) / 2)"
   ]
  }
 ],
 "metadata": {
  "kernelspec": {
   "display_name": "Python 3",
   "language": "python",
   "name": "python3"
  },
  "language_info": {
   "codemirror_mode": {
    "name": "ipython",
    "version": 3
   },
   "file_extension": ".py",
   "mimetype": "text/x-python",
   "name": "python",
   "nbconvert_exporter": "python",
   "pygments_lexer": "ipython3",
   "version": "3.11.5"
  }
 },
 "nbformat": 4,
 "nbformat_minor": 2
}
