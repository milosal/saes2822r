{
 "cells": [
  {
   "cell_type": "code",
   "execution_count": 2,
   "metadata": {},
   "outputs": [],
   "source": [
    "import os\n",
    "from tqdm import tqdm\n",
    "from huggingface_hub import login\n",
    "import torch\n",
    "import torch.nn as nn\n",
    "import math\n",
    "import einops\n",
    "from fancy_einsum import einsum\n",
    "import tqdm.auto as tqdm\n",
    "import plotly.express as px\n",
    "from jaxtyping import Float\n",
    "from functools import partial\n",
    "import transformer_lens.utils as utils\n",
    "import numpy as np\n",
    "import pandas as pd\n",
    "from sklearn.model_selection import train_test_split\n",
    "from sklearn.linear_model import LogisticRegression\n",
    "from sklearn.metrics import accuracy_score, classification_report\n",
    "from transformer_lens.hook_points import (\n",
    "    HookPoint,\n",
    ")  # Hooking utilities\n",
    "from transformer_lens import HookedTransformer, FactoredMatrix"
   ]
  },
  {
   "cell_type": "code",
   "execution_count": 3,
   "metadata": {},
   "outputs": [
    {
     "name": "stdout",
     "output_type": "stream",
     "text": [
      "The token has not been saved to the git credentials helper. Pass `add_to_git_credential=True` in this function directly or `--add-to-git-credential` if using via `huggingface-cli` if you want to set the git credential as well.\n",
      "Token is valid (permission: write).\n",
      "Your token has been saved to /Users/cole/.cache/huggingface/token\n",
      "Login successful\n",
      "Device: mps\n"
     ]
    }
   ],
   "source": [
    "with open(\"/Users/cole/cs2822r/saes2822r/access.tok\", \"r\") as file:\n",
    "    access_token = file.read()\n",
    "    login(token=access_token)\n",
    "\n",
    "if torch.backends.mps.is_available():\n",
    "    device = \"mps\"\n",
    "else:\n",
    "    device = \"cuda\" if torch.cuda.is_available() else \"cpu\"\n",
    "\n",
    "print(f\"Device: {device}\")"
   ]
  },
  {
   "cell_type": "code",
   "execution_count": 4,
   "metadata": {},
   "outputs": [
    {
     "data": {
      "text/plain": [
       "<torch.autograd.grad_mode.set_grad_enabled at 0x11544b290>"
      ]
     },
     "execution_count": 4,
     "metadata": {},
     "output_type": "execute_result"
    }
   ],
   "source": [
    "from datasets import load_dataset  \n",
    "import transformer_lens\n",
    "from transformer_lens import HookedTransformer\n",
    "from sae_lens import SAE, HookedSAETransformer\n",
    "\n",
    "torch.set_grad_enabled(False)"
   ]
  },
  {
   "cell_type": "code",
   "execution_count": 5,
   "metadata": {},
   "outputs": [
    {
     "name": "stderr",
     "output_type": "stream",
     "text": [
      "WARNING:root:You tried to specify center_unembed=True for a model using logit softcap, but this can't be done! Softcapping is not invariant upon adding a constantSetting center_unembed=False instead.\n"
     ]
    },
    {
     "data": {
      "application/vnd.jupyter.widget-view+json": {
       "model_id": "2f70ac27417a4e9aa97171ba2aaaa545",
       "version_major": 2,
       "version_minor": 0
      },
      "text/plain": [
       "Loading checkpoint shards:   0%|          | 0/3 [00:00<?, ?it/s]"
      ]
     },
     "metadata": {},
     "output_type": "display_data"
    },
    {
     "name": "stderr",
     "output_type": "stream",
     "text": [
      "WARNING:root:You are not using LayerNorm, so the writing weights can't be centered! Skipping\n"
     ]
    },
    {
     "name": "stdout",
     "output_type": "stream",
     "text": [
      "Loaded pretrained model gemma-2-2b into HookedTransformer\n"
     ]
    }
   ],
   "source": [
    "# load gemma model \n",
    "model = HookedSAETransformer.from_pretrained(\"gemma-2-2b\", device = device)\n",
    "\n",
    "# load sae on res stream of gemma model, plus cfg and sparsity val\n",
    "sae, cfg_dict, sparsity = SAE.from_pretrained(\n",
    "    release = \"gemma-scope-2b-pt-res\",\n",
    "    sae_id = \"layer_14/width_16k/average_l0_83\",\n",
    "    device = device\n",
    ")"
   ]
  },
  {
   "cell_type": "code",
   "execution_count": 7,
   "metadata": {},
   "outputs": [
    {
     "name": "stdout",
     "output_type": "stream",
     "text": [
      "100\n"
     ]
    }
   ],
   "source": [
    "df = pd.read_csv('saes2822r/dataset/harmful_strings.csv')\n",
    "\n",
    "columns_as_arrays = [df[col].values for col in df.columns]\n",
    "\n",
    "array_dict = {col: df[col].values for col in df.columns}\n",
    "\n",
    "negative_set = columns_as_arrays[0]\n",
    "negative_set = negative_set[:100]\n",
    "print(len(negative_set))"
   ]
  },
  {
   "cell_type": "code",
   "execution_count": 9,
   "metadata": {},
   "outputs": [
    {
     "name": "stdout",
     "output_type": "stream",
     "text": [
      "100\n"
     ]
    }
   ],
   "source": [
    "positive = pd.read_json('saes2822r/dataset/alpaca_data.json')\n",
    "\n",
    "positive_set = positive['output'].values\n",
    "positive_set = positive_set[:100]\n",
    "print(len(positive_set))"
   ]
  },
  {
   "cell_type": "code",
   "execution_count": 14,
   "metadata": {},
   "outputs": [
    {
     "name": "stdout",
     "output_type": "stream",
     "text": [
      "halfway\n"
     ]
    }
   ],
   "source": [
    "sae.use_error_term\n",
    "\n",
    "top_neurons_neg = {}\n",
    "top_neurons_pos = {}\n",
    "\n",
    "for example in negative_set:\n",
    "    _, cache = model.run_with_cache_with_saes(example, saes=[sae])\n",
    "\n",
    "    # get top 15 firing sae neurons\n",
    "    vals, inds = torch.topk(cache['blocks.14.hook_resid_post.hook_sae_acts_post'][0, -1, :], 15)\n",
    "\n",
    "    for datapoint in zip(inds, vals):\n",
    "        if datapoint[0] in top_neurons_neg:\n",
    "            top_neurons_neg[datapoint[0]].append(datapoint[1])\n",
    "        else:\n",
    "            top_neurons_neg[datapoint[0]] = [datapoint[1]]\n",
    "\n",
    "print(\"halfway\")\n",
    "\n",
    "for example in positive_set:\n",
    "    _, cache = model.run_with_cache_with_saes(example, saes=[sae])\n",
    "\n",
    "    # get top 15 firing sae neurons\n",
    "    vals, inds = torch.topk(cache['blocks.14.hook_resid_post.hook_sae_acts_post'][0, -1, :], 15)\n",
    "\n",
    "    for datapoint in zip(inds, vals):\n",
    "        if datapoint[0] in top_neurons_pos:\n",
    "            top_neurons_pos[datapoint[0]].append(datapoint[1])\n",
    "        else:\n",
    "            top_neurons_pos[datapoint[0]] = [datapoint[1]]"
   ]
  },
  {
   "cell_type": "code",
   "execution_count": 11,
   "metadata": {},
   "outputs": [
    {
     "name": "stdout",
     "output_type": "stream",
     "text": [
      "Test Accuracy: 1.0000\n"
     ]
    }
   ],
   "source": [
    "# train classifier on sae activations\n",
    "activations_list = []\n",
    "labels_list = []\n",
    "\n",
    "# 0 = negative, 1 = positive\n",
    "for example_txt in negative_set:\n",
    "    _, cache = model.run_with_cache_with_saes(example_txt, saes=[sae])\n",
    "    activations = cache['blocks.14.hook_resid_post.hook_sae_acts_post'][0, -1, :].cpu().numpy()\n",
    "    #print(activations.shape)\n",
    "\n",
    "    activations_list.append(activations)\n",
    "    labels_list.append(0)\n",
    "\n",
    "for example_txt in positive_set:\n",
    "    _, cache = model.run_with_cache_with_saes(example_txt, saes=[sae])\n",
    "    activations = cache['blocks.14.hook_resid_post.hook_sae_acts_post'][0, -1, :].cpu().numpy()\n",
    "\n",
    "    activations_list.append(activations)\n",
    "    labels_list.append(1)   \n",
    "\n",
    "# data\n",
    "X = np.array(activations_list)\n",
    "y = np.array(labels_list)\n",
    "\n",
    "# train test split\n",
    "X_train, X_test, y_train, y_test = train_test_split(X, y, test_size=0.2, random_state=42)\n",
    "\n",
    "# scale activation features\n",
    "from sklearn.preprocessing import StandardScaler\n",
    "scaler = StandardScaler()\n",
    "X_train = scaler.fit_transform(X_train)\n",
    "X_test = scaler.transform(X_test)\n",
    "\n",
    "clf = LogisticRegression(max_iter=1000, solver='lbfgs') \n",
    "clf.fit(X_train, y_train)\n",
    "\n",
    "y_pred = clf.predict(X_test)\n",
    "accuracy = accuracy_score(y_test, y_pred)\n",
    "print(f'Test Accuracy: {accuracy:.4f}')"
   ]
  },
  {
   "cell_type": "code",
   "execution_count": 16,
   "metadata": {},
   "outputs": [
    {
     "name": "stdout",
     "output_type": "stream",
     "text": [
      "Test Accuracy: 0.9500\n"
     ]
    }
   ],
   "source": [
    "# train classifier on base activations\n",
    "activations_list = []\n",
    "labels_list = []\n",
    "\n",
    "# 0 = negative, 1 = positive\n",
    "for example_txt in negative_set:\n",
    "    _, cache = model.run_with_cache(example_txt)\n",
    "    res_stream = cache.decompose_resid(layer=15, return_labels=False, mode='attn', incl_embeds=False, pos_slice=slice(-2, -1))\n",
    "    seven_out = res_stream[-1, 0, -1, :].cpu().numpy() # layer batch pos d_model\n",
    "    #print(seven_out.shape)\n",
    "\n",
    "    activations_list.append(seven_out)\n",
    "    labels_list.append(0)\n",
    "\n",
    "#print(\"done w bad\")\n",
    "\n",
    "for example_txt in positive_set:\n",
    "    _, cache = model.run_with_cache(example_txt)\n",
    "    res_stream = cache.decompose_resid(layer=15, return_labels=False, mode='attn', incl_embeds=False, pos_slice=slice(-2, -1))\n",
    "    seven_out = res_stream[-1, 0, -1, :].cpu().numpy()  # layer batch pos d_model\n",
    "\n",
    "    activations_list.append(seven_out)\n",
    "    labels_list.append(1)\n",
    "\n",
    "# data and split\n",
    "X = np.array(activations_list)\n",
    "y = np.array(labels_list)\n",
    "X_train, X_test, y_train, y_test = train_test_split(X, y, test_size=0.2, random_state=42)\n",
    "\n",
    "# scale features \n",
    "from sklearn.preprocessing import StandardScaler\n",
    "scaler = StandardScaler()\n",
    "X_train = scaler.fit_transform(X_train)\n",
    "X_test = scaler.transform(X_test)\n",
    "\n",
    "# train classifier\n",
    "clf = LogisticRegression(max_iter=1000, solver='lbfgs') \n",
    "clf.fit(X_train, y_train)\n",
    "\n",
    "y_pred = clf.predict(X_test)\n",
    "accuracy = accuracy_score(y_test, y_pred)\n",
    "print(f'Test Accuracy: {accuracy:.4f}')"
   ]
  }
 ],
 "metadata": {
  "kernelspec": {
   "display_name": "Python 3",
   "language": "python",
   "name": "python3"
  },
  "language_info": {
   "codemirror_mode": {
    "name": "ipython",
    "version": 3
   },
   "file_extension": ".py",
   "mimetype": "text/x-python",
   "name": "python",
   "nbconvert_exporter": "python",
   "pygments_lexer": "ipython3",
   "version": "3.11.5"
  }
 },
 "nbformat": 4,
 "nbformat_minor": 2
}
